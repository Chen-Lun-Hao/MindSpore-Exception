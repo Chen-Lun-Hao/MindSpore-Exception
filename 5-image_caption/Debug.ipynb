{
 "cells": [
  {
   "cell_type": "code",
   "execution_count": null,
   "metadata": {},
   "outputs": [],
   "source": [
    "%load_ext autoreload\n",
    "%autoreload 2\n",
    "from main  import *\n",
    "import os\n",
    "os.environ['CUDA_VISIBLE_DEVICES']=\"1\""
   ]
  },
  {
   "cell_type": "code",
   "execution_count": null,
   "metadata": {
    "collapsed": true
   },
   "outputs": [],
   "source": [
    "opt = Config()\n",
    "opt = Config()    \n",
    "opt.caption_data_path = 'caption.ckpt' # 原始数据\n",
    "opt.test_img = 'img/example.jpeg' # 输入图片\n",
    "opt.use_gpu = False  # 是否使用GPU(没必要)\n",
    "#opt.model_ckpt='caption_0914_1947' # 预训练的模型\n",
    "opt.img_feature_path = 'results.ckpt'\n",
    "\n",
    "# 数据\n",
    "dataloader = get_dataloader(opt)\n",
    "_data = dataloader.dataset._data\n",
    "word2ix,ix2word = _data['word2ix'],_data['ix2word']\n",
    "\n",
    "# 模型\n",
    "model = CaptionModel(opt,word2ix,ix2word)\n",
    "if opt.model_ckpt:\n",
    "    model.load(opt.model_ckpt)\n",
    "optimizer = model.get_optimizer(opt.lr1,opt.lr2)\n",
    "criterion = nn.CrossEntropyLoss()\n",
    "if opt.use_gpu:\n",
    "    context.set_context(mode=context.GRAPH_MODE, device_target=\"GPU\")\n",
    "else:\n",
    "    context.set_context(mode=context.GRAPH_MODE, device_target=\"CPU\")\n",
    "\n",
    "# 前向传播\n",
    "def forward_fn(imgs, captions, lengths):\n",
    "    input_captions = captions[:-1]\n",
    "    target_captions = captions[0]#pack_padded_sequence(captions, lengths)[0]\n",
    "    score, _ = model(imgs, input_captions, lengths)\n",
    "    loss = criterion(score, target_captions)\n",
    "    return loss, score\n",
    "\n",
    "# 梯度函数\n",
    "grad_fn = value_and_grad(\n",
    "    forward_fn, None, optimizer.parameters, has_aux=True)\n",
    "\n",
    "# 更新，训练\n",
    "def train_step(imgs, captions, lengths):\n",
    "    (loss, y), grads = grad_fn(imgs, captions, lengths)\n",
    "    optimizer(grads)\n",
    "    return loss, y\n",
    "\n",
    "with SummaryRecord(log_dir=\"./summary_dir\", network=model) as summary_record:\n",
    "    for epoch in range(opt.epoch):        \n",
    "        loss_meter.clear()\n",
    "        for ii,(imgs, (captions, lengths),indexes)  in tqdm.tqdm(enumerate(dataloader)):\n",
    "            # 训练\n",
    "            imgs = Tensor(imgs)\n",
    "            captions = Tensor(captions)\n",
    "            loss, score = train_step(imgs, captions, lengths)\n",
    "\n",
    "            loss_meter.update(loss.item())\n",
    "\n",
    "            # 可视化\n",
    "            if (ii + 1) % opt.plot_every == 0:\n",
    "                if os.path.exists(opt.debug_file):\n",
    "                    ipdb.set_trace()\n",
    "\n",
    "                summary_record.add_value('scalar', 'loss', loss_meter.eval())\n",
    "\n",
    "                # 可视化原始图片 + 可视化人工的描述语句\n",
    "                raw_img = _data['ix2id'][indexes[0]]\n",
    "                img_path = opt.img_path + raw_img\n",
    "                raw_img = Image.open(img_path).convert('RGB')\n",
    "                raw_img = ds.vision.ToTensor()(raw_img)\n",
    "\n",
    "                raw_caption = captions.data[:, 0]\n",
    "                raw_caption = ''.join([_data['ix2word'][ii] for ii in raw_caption])\n",
    "                with open('raw_caption','a') as f:\n",
    "                    f.write(raw_caption)\n",
    "                summary_record.add_value('image', 'raw', raw_img)\n",
    "\n",
    "                # 可视化网络生成的描述语句\n",
    "                results = model.generate(imgs.data[0])\n",
    "                with open('caption','a') as f:\n",
    "                    test = '</br>'.join(results)\n",
    "                    f.write(test)\n",
    "        save_checkpoint(model, \"./\" + str(epoch) + \".ckpt\")"
   ]
  },
  {
   "cell_type": "code",
   "execution_count": null,
   "metadata": {},
   "outputs": [],
   "source": [
    "opt.use_gpu"
   ]
  },
  {
   "cell_type": "code",
   "execution_count": null,
   "metadata": {
    "scrolled": true
   },
   "outputs": [],
   "source": [
    "optimizer = model.get_optimizer(opt.lr1)\n",
    "criterion = nn.CrossEntropyLoss()\n",
    "\n",
    "\n",
    "# 统计\n",
    "loss_meter = Loss()\n"
   ]
  },
  {
   "cell_type": "code",
   "execution_count": null,
   "metadata": {},
   "outputs": [],
   "source": [
    "opt.img_path='/home/cy/caption_data/'"
   ]
  }
 ],
 "metadata": {
  "kernelspec": {
   "display_name": "Python 3",
   "language": "python",
   "name": "python3"
  },
  "language_info": {
   "codemirror_mode": {
    "name": "ipython",
    "version": 3
   },
   "file_extension": ".py",
   "mimetype": "text/x-python",
   "name": "python",
   "nbconvert_exporter": "python",
   "pygments_lexer": "ipython3",
   "version": "3.5.2"
  }
 },
 "nbformat": 4,
 "nbformat_minor": 2
}
